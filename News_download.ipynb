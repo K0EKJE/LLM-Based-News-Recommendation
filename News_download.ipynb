{
 "cells": [
  {
   "cell_type": "code",
   "execution_count": 2,
   "id": "3e59a05f",
   "metadata": {},
   "outputs": [],
   "source": [
    "import warnings\n",
    "warnings.filterwarnings('ignore')"
   ]
  },
  {
   "cell_type": "code",
   "execution_count": 10,
   "id": "90d1f7f3",
   "metadata": {},
   "outputs": [],
   "source": [
    "import flask"
   ]
  },
  {
   "cell_type": "code",
   "execution_count": 8,
   "id": "dc50a11c",
   "metadata": {},
   "outputs": [],
   "source": [
    "import pandas as pd\n",
    "import numpy as np\n",
    "df = pd.read_csv('dataset/example_df.csv')\n"
   ]
  },
  {
   "cell_type": "code",
   "execution_count": 3,
   "id": "89113489",
   "metadata": {},
   "outputs": [],
   "source": [
    "from utils.vectorizer import encode_dataset\n",
    "from utils.indexer import index_dataset,similarity_search"
   ]
  },
  {
   "cell_type": "code",
   "execution_count": 9,
   "id": "ef1a1b18",
   "metadata": {},
   "outputs": [
    {
     "data": {
      "text/plain": [
       "(array([[3.7545812, 3.8435092, 3.9310362, 3.9438255, 4.0716524]],\n",
       "       dtype=float32),\n",
       " array([[0, 7, 3, 9, 2]], dtype=int64))"
      ]
     },
     "execution_count": 9,
     "metadata": {},
     "output_type": "execute_result"
    }
   ],
   "source": [
    "\n",
    "vec = np.random.uniform(-0.17051148, 0.13893194, 384).reshape(1,-1)\n",
    "\n",
    "index = index_dataset(df)\n",
    "similarity_search(vec,  5, index)"
   ]
  },
  {
   "cell_type": "code",
   "execution_count": 11,
   "id": "1edd094e",
   "metadata": {},
   "outputs": [
    {
     "name": "stdout",
     "output_type": "stream",
     "text": [
      "C:\\Users\\mm615\\anaconda3\\python.exe\n"
     ]
    }
   ],
   "source": [
    "import sys\n",
    "print(sys.executable)"
   ]
  },
  {
   "cell_type": "code",
   "execution_count": 13,
   "id": "55643931",
   "metadata": {},
   "outputs": [
    {
     "name": "stdout",
     "output_type": "stream",
     "text": [
      "^C\n"
     ]
    }
   ],
   "source": [
    "!python run.py"
   ]
  },
  {
   "cell_type": "code",
   "execution_count": 13,
   "id": "0a92d77f",
   "metadata": {},
   "outputs": [
    {
     "name": "stdout",
     "output_type": "stream",
     "text": [
      "Start embedding...\n"
     ]
    }
   ],
   "source": [
    "summaries1, embeddings1 = process_and_encode_articles([df['text'][3]])"
   ]
  },
  {
   "cell_type": "code",
   "execution_count": 1,
   "id": "36a2a65a",
   "metadata": {},
   "outputs": [
    {
     "name": "stdout",
     "output_type": "stream",
     "text": [
      "C:\\Users\\mm615\\anaconda3\\python.exe\n"
     ]
    }
   ],
   "source": [
    "import sys\n",
    "print(sys.executable)"
   ]
  },
  {
   "cell_type": "code",
   "execution_count": 25,
   "id": "a94ed094",
   "metadata": {},
   "outputs": [
    {
     "name": "stdout",
     "output_type": "stream",
     "text": [
      "Summary: summarize: u gDP rose third quarter smashing forecaster expectation massive spending leisure hospitality event including taylor swift beyonc concert helped power surge economist warning bump growth wont last forever american covidera saving running dry.\n",
      "\n",
      "\n",
      "Summary: summarize: hospitalacquired infection became substantially common pandemic returned prepandemic level according new report patient safety watchdog group key note researcher say infection rate march nothing celebrate top moderately good news leapfrog group found metric measure patient safety satisfaction fallen significantly likely hospital staffing shortage pandemicera challenge encouraged relieved see infection rapidly decreasing hospital following spike.\n",
      "\n",
      "\n",
      "Summary: summarize: covid symptom may change appearance pink line rapid test mean one thing sure five day isolation guidance center disease control prevention place since late moment agency doesnt appear making change policy case telling people isolate positive test may unintended effect.\n",
      "\n",
      "\n"
     ]
    }
   ],
   "source": [
    "# Example usage:\n",
    "urls = [ 'https://news.yahoo.com/taylor-swift-beyonc-wont-prop-150238921.html',\n",
    "       'https://news.yahoo.com/hospital-acquired-infections-down-post-102127469.html',\n",
    "      'https://news.yahoo.com/come-covid-isolation-experts-weigh-164122352.html']\n",
    "model_to_use = 'bart'  # or 'T5' which may produce more fluent text\n",
    "\n",
    "summaries, embeddings = process_and_encode_articles(urls, model_to_use)\n",
    "\n",
    "for i, url in enumerate(urls):\n",
    "    print(\"Summary:\", summaries[i])\n",
    "    print(\"\\n\")"
   ]
  },
  {
   "cell_type": "markdown",
   "id": "2fc7a7d9",
   "metadata": {},
   "source": [
    "## News headlines:\n",
    "\n",
    "Taylor Swift and Beyoncé won't prop up the US economy much longer, with Americans' COVID-era savings running dry\n",
    "\n",
    "Hospital acquired infections are down post-COVID, but other risks remain for patients\n",
    "\n",
    "When should you come out of Covid isolation?"
   ]
  },
  {
   "cell_type": "code",
   "execution_count": 7,
   "id": "49630196",
   "metadata": {},
   "outputs": [
    {
     "name": "stdout",
     "output_type": "stream",
     "text": [
      "The cosine similarity score between Taylor Swift and Hospital is: 0.16136282682418823\n",
      "The cosine similarity score between Hospital and Covid isolation is: 0.4102650582790375\n"
     ]
    }
   ],
   "source": [
    "import numpy as np\n",
    "from sklearn.metrics.pairwise import cosine_similarity\n",
    "\n",
    "# Cosine similarity expects a 2D array, so you need to reshape if you have 1D array\n",
    "Article1 = embeddings[0].reshape(1, -1)\n",
    "Article2 = embeddings[1].reshape(1, -1)\n",
    "Article3 = embeddings[2].reshape(1, -1)\n",
    "\n",
    "\n",
    "# Compute cosine similarity\n",
    "similarity = cosine_similarity(Article1, Article2)\n",
    "similarity1 = cosine_similarity(Article2, Article3)\n",
    "\n",
    "# The result is a matrix of similarity scores\n",
    "# Since we're comparing one vector with another, we'll have a single value\n",
    "similarity_score = similarity[0][0]\n",
    "similarity_score1 = similarity1[0][0]\n",
    "\n",
    "print(f\"The cosine similarity score between Taylor Swift and Hospital is: {similarity_score}\")\n",
    "print(f\"The cosine similarity score between Hospital and Covid isolation is: {similarity_score1}\")"
   ]
  },
  {
   "cell_type": "code",
   "execution_count": null,
   "id": "b0e03ac3",
   "metadata": {},
   "outputs": [],
   "source": []
  },
  {
   "cell_type": "code",
   "execution_count": null,
   "id": "61949dfe",
   "metadata": {},
   "outputs": [],
   "source": []
  }
 ],
 "metadata": {
  "kernelspec": {
   "display_name": "Python 3 (ipykernel)",
   "language": "python",
   "name": "python3"
  },
  "language_info": {
   "codemirror_mode": {
    "name": "ipython",
    "version": 3
   },
   "file_extension": ".py",
   "mimetype": "text/x-python",
   "name": "python",
   "nbconvert_exporter": "python",
   "pygments_lexer": "ipython3",
   "version": "3.9.18"
  }
 },
 "nbformat": 4,
 "nbformat_minor": 5
}
